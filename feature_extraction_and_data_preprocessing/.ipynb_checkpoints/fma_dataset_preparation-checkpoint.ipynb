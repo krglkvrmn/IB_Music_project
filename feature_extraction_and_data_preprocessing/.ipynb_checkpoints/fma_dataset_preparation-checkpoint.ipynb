{
 "cells": [
  {
   "cell_type": "markdown",
   "metadata": {},
   "source": [
    "# "
   ]
  },
  {
   "cell_type": "code",
   "execution_count": 2,
   "metadata": {},
   "outputs": [],
   "source": [
    "import ast\n",
    "import os\n",
    "import warnings\n",
    "\n",
    "import librosa as lb\n",
    "import numpy as np\n",
    "import pandas as pd\n",
    "import scipy as sp\n",
    "\n",
    "\n",
    "warnings.filterwarnings(\"ignore\")"
   ]
  },
  {
   "cell_type": "code",
   "execution_count": 2,
   "metadata": {},
   "outputs": [],
   "source": [
    "def load(filepath):       # FMA module function to load metadata\n",
    "    filename = os.path.basename(filepath)\n",
    "    if 'features' in filename:\n",
    "        return pd.read_csv(filepath, index_col=0, header=[0, 1, 2])\n",
    "\n",
    "    if 'echonest' in filename:\n",
    "        return pd.read_csv(filepath, index_col=0, header=[0, 1, 2])\n",
    "\n",
    "    if 'genres' in filename:\n",
    "        return pd.read_csv(filepath, index_col=0)\n",
    "\n",
    "    if 'tracks' in filename:\n",
    "        tracks = pd.read_csv(filepath, index_col=0, header=[0, 1])\n",
    "\n",
    "        COLUMNS = [('track', 'tags'), ('album', 'tags'), ('artist', 'tags'),\n",
    "                   ('track', 'genres'), ('track', 'genres_all')]\n",
    "        for column in COLUMNS:\n",
    "            tracks[column] = tracks[column].map(ast.literal_eval)\n",
    "\n",
    "        COLUMNS = [('track', 'date_created'), ('track', 'date_recorded'),\n",
    "                   ('album', 'date_created'), ('album', 'date_released'),\n",
    "                   ('artist', 'date_created'), ('artist', 'active_year_begin'),\n",
    "                   ('artist', 'active_year_end')]\n",
    "        for column in COLUMNS:\n",
    "            tracks[column] = pd.to_datetime(tracks[column])\n",
    "\n",
    "        SUBSETS = ('small', 'medium', 'large')\n",
    "        try:\n",
    "            tracks['set', 'subset'] = tracks['set', 'subset'].astype(\n",
    "                    'category', categories=SUBSETS, ordered=True)\n",
    "        except (ValueError, TypeError):\n",
    "            # the categories and ordered arguments were removed in pandas 0.25\n",
    "            tracks['set', 'subset'] = tracks['set', 'subset'].astype(\n",
    "                     pd.CategoricalDtype(categories=SUBSETS, ordered=True))\n",
    "\n",
    "        COLUMNS = [('track', 'genre_top'), ('track', 'license'),\n",
    "                   ('album', 'type'), ('album', 'information'),\n",
    "                   ('artist', 'bio')]\n",
    "        for column in COLUMNS:\n",
    "            tracks[column] = tracks[column].astype('category')\n",
    "\n",
    "        return tracks"
   ]
  },
  {
   "cell_type": "markdown",
   "metadata": {},
   "source": [
    "# Metadata preparation"
   ]
  },
  {
   "cell_type": "markdown",
   "metadata": {},
   "source": [
    "Load metadata and select small subset of FMA dataset. For convenience, music files paths were added as column to metadata dataframe. Resulting dataframe (**\"tracks_genre_small.csv\"**) was used as path container as well as train labels."
   ]
  },
  {
   "cell_type": "code",
   "execution_count": 4,
   "metadata": {},
   "outputs": [],
   "source": [
    "METADATA_BASE_DIR = \"../data/fma_metadata/\"\n",
    "TRACKS_BASE_DIR = \"../data/fma_small/\""
   ]
  },
  {
   "cell_type": "code",
   "execution_count": 8,
   "metadata": {},
   "outputs": [],
   "source": [
    "tracks = load(os.path.join(METADATA_BASE_DIR, \"tracks.csv\"))\n",
    "genres = load(os.path.join(METADATA_BASE_DIR, \"genres.csv\"))\n",
    "small = tracks[tracks['set', 'subset'] <= 'small'].track\n",
    "tracklist = [(\"0\" * (6 - len(str(id_)))) + str(id_) for id_ in small.index]\n",
    "pathlist = []\n",
    "for folder in os.listdir(TRACKS_BASE_DIR):\n",
    "    if os.path.isdir(os.path.join(TRACKS_BASE_DIR, folder)):\n",
    "        for trackfile in os.listdir(os.path.join(TRACKS_BASE_DIR, folder)):\n",
    "            pathlist.append(os.path.join(TRACKS_BASE_DIR, folder, trackfile))\n",
    "pathlist = sorted(pathlist, key=lambda x: int(x[-10:-4]))\n",
    "small.loc[:, \"filepath\"] = pathlist\n",
    "data = small.loc[:, [\"genre_top\", \"filepath\"]]\n",
    "data.to_csv(\"../data/tracks_genre_small.csv\")"
   ]
  },
  {
   "cell_type": "markdown",
   "metadata": {},
   "source": [
    "# Creating labels for multi-label classification"
   ]
  },
  {
   "cell_type": "markdown",
   "metadata": {},
   "source": [
    "FMA dataset metadata contains informations not only about main genre, but also about subgenres. This information was saved in a for of matrix with **7794** rows (number of tracks) and **114** columns (all available subgenres for small dataset)."
   ]
  },
  {
   "cell_type": "code",
   "execution_count": 10,
   "metadata": {},
   "outputs": [],
   "source": [
    "tracks = load(os.path.join(METADATA_BASE_DIR, \"tracks.csv\"))\n",
    "genres = load(os.path.join(METADATA_BASE_DIR, \"genres.csv\"))\n",
    "small = tracks[tracks['set', 'subset'] <= 'small'].track\n",
    "tracklist = [(\"0\" * (6 - len(str(id_)))) + str(id_) for id_ in small.index]\n",
    "pathlist = []\n",
    "for folder in os.listdir(TRACKS_BASE_DIR):\n",
    "    if os.path.isdir(os.path.join(TRACKS_BASE_DIR, folder)):\n",
    "        for trackfile in os.listdir(os.path.join(TRACKS_BASE_DIR, folder)):\n",
    "            pathlist.append(os.path.join(TRACKS_BASE_DIR, folder, trackfile))\n",
    "pathlist = sorted(pathlist, key=lambda x: int(x[-10:-4]))\n",
    "small.loc[:, \"filepath\"] = pathlist\n",
    "\n",
    "# Set of files that has incorrect size (much less than 30 seconds)\n",
    "blacklist = set([\"fma_small/098/098565.mp3\",\n",
    "                 \"fma_small/098/098567.mp3\",\n",
    "                 \"fma_small/098/098569.mp3\",\n",
    "                 \"fma_small/099/099134.mp3\",\n",
    "                 \"fma_small/108/108925.mp3\",\n",
    "                 \"fma_small/133/133297.mp3\"])"
   ]
  },
  {
   "cell_type": "code",
   "execution_count": 11,
   "metadata": {},
   "outputs": [],
   "source": [
    "data_all_genres = small.loc[:, [\"genre_top\", \"filepath\", \"genres_all\"]]\n",
    "data_all_genres = data_all_genres.query(\"filepath not in @blacklist\")"
   ]
  },
  {
   "cell_type": "code",
   "execution_count": 12,
   "metadata": {},
   "outputs": [
    {
     "data": {
      "text/html": [
       "<div>\n",
       "<style scoped>\n",
       "    .dataframe tbody tr th:only-of-type {\n",
       "        vertical-align: middle;\n",
       "    }\n",
       "\n",
       "    .dataframe tbody tr th {\n",
       "        vertical-align: top;\n",
       "    }\n",
       "\n",
       "    .dataframe thead th {\n",
       "        text-align: right;\n",
       "    }\n",
       "</style>\n",
       "<table border=\"1\" class=\"dataframe\">\n",
       "  <thead>\n",
       "    <tr style=\"text-align: right;\">\n",
       "      <th></th>\n",
       "      <th>genre_top</th>\n",
       "      <th>filepath</th>\n",
       "      <th>genres_all</th>\n",
       "    </tr>\n",
       "    <tr>\n",
       "      <th>track_id</th>\n",
       "      <th></th>\n",
       "      <th></th>\n",
       "      <th></th>\n",
       "    </tr>\n",
       "  </thead>\n",
       "  <tbody>\n",
       "    <tr>\n",
       "      <th>2</th>\n",
       "      <td>Hip-Hop</td>\n",
       "      <td>fma_small/000/000002.mp3</td>\n",
       "      <td>[21]</td>\n",
       "    </tr>\n",
       "    <tr>\n",
       "      <th>5</th>\n",
       "      <td>Hip-Hop</td>\n",
       "      <td>fma_small/000/000005.mp3</td>\n",
       "      <td>[21]</td>\n",
       "    </tr>\n",
       "    <tr>\n",
       "      <th>10</th>\n",
       "      <td>Pop</td>\n",
       "      <td>fma_small/000/000010.mp3</td>\n",
       "      <td>[10]</td>\n",
       "    </tr>\n",
       "    <tr>\n",
       "      <th>140</th>\n",
       "      <td>Folk</td>\n",
       "      <td>fma_small/000/000140.mp3</td>\n",
       "      <td>[17]</td>\n",
       "    </tr>\n",
       "    <tr>\n",
       "      <th>141</th>\n",
       "      <td>Folk</td>\n",
       "      <td>fma_small/000/000141.mp3</td>\n",
       "      <td>[17]</td>\n",
       "    </tr>\n",
       "    <tr>\n",
       "      <th>...</th>\n",
       "      <td>...</td>\n",
       "      <td>...</td>\n",
       "      <td>...</td>\n",
       "    </tr>\n",
       "    <tr>\n",
       "      <th>154308</th>\n",
       "      <td>Hip-Hop</td>\n",
       "      <td>fma_small/154/154308.mp3</td>\n",
       "      <td>[811, 539, 21]</td>\n",
       "    </tr>\n",
       "    <tr>\n",
       "      <th>154309</th>\n",
       "      <td>Hip-Hop</td>\n",
       "      <td>fma_small/154/154309.mp3</td>\n",
       "      <td>[811, 539, 21]</td>\n",
       "    </tr>\n",
       "    <tr>\n",
       "      <th>154413</th>\n",
       "      <td>Pop</td>\n",
       "      <td>fma_small/154/154413.mp3</td>\n",
       "      <td>[10, 76]</td>\n",
       "    </tr>\n",
       "    <tr>\n",
       "      <th>154414</th>\n",
       "      <td>Pop</td>\n",
       "      <td>fma_small/154/154414.mp3</td>\n",
       "      <td>[10, 76]</td>\n",
       "    </tr>\n",
       "    <tr>\n",
       "      <th>155066</th>\n",
       "      <td>Hip-Hop</td>\n",
       "      <td>fma_small/155/155066.mp3</td>\n",
       "      <td>[811, 21]</td>\n",
       "    </tr>\n",
       "  </tbody>\n",
       "</table>\n",
       "<p>7994 rows × 3 columns</p>\n",
       "</div>"
      ],
      "text/plain": [
       "         genre_top                  filepath      genres_all\n",
       "track_id                                                    \n",
       "2          Hip-Hop  fma_small/000/000002.mp3            [21]\n",
       "5          Hip-Hop  fma_small/000/000005.mp3            [21]\n",
       "10             Pop  fma_small/000/000010.mp3            [10]\n",
       "140           Folk  fma_small/000/000140.mp3            [17]\n",
       "141           Folk  fma_small/000/000141.mp3            [17]\n",
       "...            ...                       ...             ...\n",
       "154308     Hip-Hop  fma_small/154/154308.mp3  [811, 539, 21]\n",
       "154309     Hip-Hop  fma_small/154/154309.mp3  [811, 539, 21]\n",
       "154413         Pop  fma_small/154/154413.mp3        [10, 76]\n",
       "154414         Pop  fma_small/154/154414.mp3        [10, 76]\n",
       "155066     Hip-Hop  fma_small/155/155066.mp3       [811, 21]\n",
       "\n",
       "[7994 rows x 3 columns]"
      ]
     },
     "execution_count": 12,
     "metadata": {},
     "output_type": "execute_result"
    }
   ],
   "source": [
    "data_all_genres"
   ]
  },
  {
   "cell_type": "markdown",
   "metadata": {},
   "source": [
    "Extract set of genres that are present in small fma dataset"
   ]
  },
  {
   "cell_type": "code",
   "execution_count": 23,
   "metadata": {},
   "outputs": [],
   "source": [
    "genre_map = genres.loc[:, [\"title\"]]\n",
    "genre_map.loc[:, \"ID\"] = range(genre_map.size)\n",
    "id_remapper = genre_map.ID"
   ]
  },
  {
   "cell_type": "code",
   "execution_count": 24,
   "metadata": {},
   "outputs": [],
   "source": [
    "unique_genres = set()\n",
    "for idx, (_, row) in enumerate(data_all_genres.iterrows()):\n",
    "    unique_genres |= set(row.genres_all)"
   ]
  },
  {
   "cell_type": "code",
   "execution_count": 25,
   "metadata": {},
   "outputs": [],
   "source": [
    "small_genres = genre_map.loc[unique_genres, :]\n",
    "small_genres.ID = range(small_genres.shape[0])\n",
    "id_remapper = small_genres.ID"
   ]
  },
  {
   "cell_type": "code",
   "execution_count": 26,
   "metadata": {},
   "outputs": [
    {
     "name": "stdout",
     "output_type": "stream",
     "text": [
      "['Avant-Garde', 'International', 'Sound Art', 'Novelty', 'Turkish', 'Pop', 'New Age', 'Rock', 'Romany (Gypsy)', 'Electronic', 'Sound Effects', 'Folk', 'Soundtrack', 'Hip-Hop', 'Audio Collage', 'Punk', 'Post-Rock', 'Lo-Fi', 'Compilation', 'Rap', 'Field Recordings', 'Metal', 'Noise', 'Psych-Folk', 'Trip-Hop', 'Breakbeat', 'Krautrock', 'Tango', 'Experimental', 'Dance', 'Electroacoustic', 'Chip Music', 'Ambient Electronic', 'Hip-Hop Beats', 'Loud-Rock', 'Latin America', 'Drone', 'Salsa', 'Free-Folk', 'Noise-Rock', 'Psych-Rock', 'Goth', 'Electro-Punk', 'Indie-Rock', 'Abstract Hip-Hop', 'Industrial', 'No Wave', 'Experimental Pop', 'French', 'Reggae - Dub', 'Drum & Bass', 'Afrobeat', 'Nerdcore', 'Garage', 'Indian', 'New Wave', 'Post-Punk', 'Reggae - Dancehall', 'Sludge', 'African', 'Freak-Folk', 'Progressive', 'Alternative Hip-Hop', 'Death-Metal', 'Middle East', 'Singer-Songwriter', 'Shoegaze', 'Kid-Friendly', 'Synth Pop', 'Spanish', 'Ambient', 'Hardcore', 'Thrash', 'Power-Pop', 'Space-Rock', 'Polka', 'Balkan', 'Unclassifiable', 'Europe', 'Chill-out', 'Bigbeat', 'Surf', 'Black-Metal', 'Christmas', 'Brazilian', 'Asia-Far East', 'South Indian Traditional', 'Celtic', 'British Folk', 'Techno', 'House', 'Glitch', 'Rock Opera', 'Breakcore - Hard', 'Minimal Electronic', 'Sound Poetry', 'Grindcore', 'Jungle', 'Minimalism', 'Instrumental', 'Dubstep', 'North African', 'Sound Collage', 'Klezmer', 'Flamenco', 'Skweee', 'IDM', 'Downtempo', 'Chiptune', 'Cumbia', 'Musique Concrete', 'Latin', 'Improv', 'Holiday']\n"
     ]
    }
   ],
   "source": [
    "print(small_genres.title.to_list())"
   ]
  },
  {
   "cell_type": "markdown",
   "metadata": {},
   "source": [
    "Create 2d numpy array representing genres of each track in form of dummy variables"
   ]
  },
  {
   "cell_type": "code",
   "execution_count": 27,
   "metadata": {},
   "outputs": [],
   "source": [
    "genre_dummies = np.zeros((len(data_all_genres), len(unique_genres)))\n",
    "for idx, (_, row) in enumerate(data_all_genres.iterrows()):\n",
    "    track_genres = list(map(lambda x: id_remapper[x], row.genres_all))\n",
    "    genre_dummies[idx, track_genres] = 1"
   ]
  },
  {
   "cell_type": "code",
   "execution_count": 28,
   "metadata": {},
   "outputs": [],
   "source": [
    "np.save(\"../data/genres_multilabel.npy\", genre_dummies)"
   ]
  },
  {
   "cell_type": "code",
   "execution_count": 198,
   "metadata": {},
   "outputs": [],
   "source": [
    "genre_map.to_csv(\"../data/all_genres.csv\")"
   ]
  },
  {
   "cell_type": "code",
   "execution_count": 29,
   "metadata": {},
   "outputs": [
    {
     "data": {
      "text/plain": [
       "114"
      ]
     },
     "execution_count": 29,
     "metadata": {},
     "output_type": "execute_result"
    }
   ],
   "source": [
    "len(unique_genres)"
   ]
  }
 ],
 "metadata": {
  "kernelspec": {
   "display_name": "Python 3",
   "language": "python",
   "name": "python3"
  },
  "language_info": {
   "codemirror_mode": {
    "name": "ipython",
    "version": 3
   },
   "file_extension": ".py",
   "mimetype": "text/x-python",
   "name": "python",
   "nbconvert_exporter": "python",
   "pygments_lexer": "ipython3",
   "version": "3.8.5"
  }
 },
 "nbformat": 4,
 "nbformat_minor": 4
}
