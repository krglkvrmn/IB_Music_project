{
 "cells": [
  {
   "cell_type": "code",
   "execution_count": 1,
   "metadata": {},
   "outputs": [],
   "source": [
    "from sklearn.tree import DecisionTreeClassifier\n",
    "from sklearn.ensemble import RandomForestClassifier\n",
    "\n",
    "from sklearn.model_selection import train_test_split\n",
    "from sklearn.model_selection import cross_val_score\n",
    "from sklearn.model_selection import GridSearchCV\n",
    "\n",
    "from sklearn.metrics import precision_score, classification_report\n",
    "from sklearn import tree\n",
    "\n",
    "import numpy as np\n",
    "import pandas as pd\n",
    "import seaborn as sns\n",
    "import matplotlib.pyplot as plt"
   ]
  },
  {
   "cell_type": "markdown",
   "metadata": {},
   "source": [
    "## Get data"
   ]
  },
  {
   "cell_type": "code",
   "execution_count": 2,
   "metadata": {},
   "outputs": [
    {
     "name": "stdout",
     "output_type": "stream",
     "text": [
      "(7994, 1271)\n",
      "(7994, 1271)\n",
      "(7994, 1271)\n",
      "(7994, 1271)\n",
      "(7994, 1271)\n",
      "(7994, 1271)\n"
     ]
    }
   ],
   "source": [
    "# Time-domain features\n",
    "root = np.load(\"./root_mean_square_2048_512.npy\")\n",
    "cross_rate = np.load(\"./zero_crossing_rate_2048_512.npy\")\n",
    "amplitude = np.load(\"./amplitude_envelope_2048_512.npy\")\n",
    "\n",
    "print(cross_rate.shape)\n",
    "print(root.shape)\n",
    "print(amplitude.shape)\n",
    "\n",
    "\n",
    "# Frequency domain features\n",
    "spec_bandwidth = np.load(\"./spectral_bandwidth_2048_512.npy\")\n",
    "spec_centroid = np.load(\"./spectral_centroid_2048_512.npy\")\n",
    "spec_flatness = np.load(\"./spectral_flatness_2048_512.npy\")\n",
    "\n",
    "print(spec_bandwidth.shape)\n",
    "print(spec_centroid.shape)\n",
    "print(spec_flatness.shape)"
   ]
  },
  {
   "cell_type": "code",
   "execution_count": 3,
   "metadata": {},
   "outputs": [
    {
     "name": "stdout",
     "output_type": "stream",
     "text": [
      "Pop              1000\n",
      "Instrumental     1000\n",
      "Folk             1000\n",
      "International    1000\n",
      "Experimental      999\n",
      "Rock              999\n",
      "Electronic        999\n",
      "Hip-Hop           997\n",
      "Name: genre_top, dtype: int64\n"
     ]
    }
   ],
   "source": [
    "# Y data\n",
    "music_data = pd.read_csv(\"tracks_genre_small.csv\")\n",
    "\n",
    "blacklist = {\"fma_small/098/098565.mp3\", \"fma_small/098/098567.mp3\", \"fma_small/098/098569.mp3\",\n",
    "             \"fma_small/099/099134.mp3\", \"fma_small/108/108925.mp3\", \"fma_small/133/133297.mp3\"}\n",
    "\n",
    "music_data = music_data.query(\"filepath not in @blacklist\")\n",
    "\n",
    "print(music_data.genre_top.value_counts())  # Everything is in balance\n"
   ]
  },
  {
   "cell_type": "markdown",
   "metadata": {},
   "source": [
    "## Stupid way. Just get mean values that characterise our genre"
   ]
  },
  {
   "cell_type": "code",
   "execution_count": 4,
   "metadata": {},
   "outputs": [],
   "source": [
    "X = pd.DataFrame({\"root_mean\": root.mean(axis=1),\n",
    "                  \"cross_rate_mean\": cross_rate.mean(axis=1),\n",
    "                  \"amplitude_mean\": amplitude.mean(axis=1),\n",
    "                  \"spec_bandwidth_mean\": spec_bandwidth.mean(axis=1),\n",
    "                  \"spec_centroid_mean\": spec_centroid.mean(axis=1),\n",
    "                  \"spec_flatness_mean\": spec_flatness.mean(axis=1),\n",
    "                  \n",
    "                  \"root_min\": root.min(axis=1),\n",
    "                  \"cross_rate_min\": cross_rate.min(axis=1),\n",
    "                  \"amplitude_min\": amplitude.min(axis=1),\n",
    "                  \"spec_bandwidth_min\": spec_bandwidth.min(axis=1),\n",
    "                  \"spec_centroid_min\": spec_centroid.min(axis=1),\n",
    "                  \"spec_flatness_min\": spec_flatness.min(axis=1),\n",
    "                  \n",
    "                  \"root_max\": root.max(axis=1),\n",
    "                  \"cross_rate_max\": cross_rate.max(axis=1),\n",
    "                  \"amplitude_max\": amplitude.max(axis=1),\n",
    "                  \"spec_bandwidth_max\": spec_bandwidth.max(axis=1),\n",
    "                  \"spec_centroid_max\": spec_centroid.max(axis=1),\n",
    "                  \"spec_flatness_max\": spec_flatness.max(axis=1),\n",
    "                \n",
    "                  \"root_std\": root.std(axis=1),\n",
    "                  \"cross_rate_std\": cross_rate.std(axis=1),\n",
    "                  \"amplitude_std\": amplitude.std(axis=1),\n",
    "                  \"spec_bandwidth_std\": spec_bandwidth.std(axis=1),\n",
    "                  \"spec_centroid_std\": spec_centroid.std(axis=1),\n",
    "                  \"spec_flatness_std\": spec_flatness.std(axis=1),\n",
    "                  })\n",
    "\n",
    "y = music_data.genre_top\n"
   ]
  },
  {
   "cell_type": "code",
   "execution_count": 5,
   "metadata": {},
   "outputs": [
    {
     "name": "stdout",
     "output_type": "stream",
     "text": [
      "   root_mean  cross_rate_mean  amplitude_mean  spec_bandwidth_mean  \\\n",
      "0   0.145564         0.162650        0.472331          2683.269690   \n",
      "1   0.148352         0.100928        0.417225          2603.937132   \n",
      "2   0.188408         0.148650        0.647179          2050.288798   \n",
      "3   0.068198         0.043890        0.170641          2484.904356   \n",
      "\n",
      "   spec_centroid_mean  spec_flatness_mean  root_min  cross_rate_min  \\\n",
      "0         3023.868820            0.058018  0.021373        0.029297   \n",
      "1         2426.681473            0.026787  0.032495        0.009277   \n",
      "2         2348.362119            0.022396  0.099909        0.070801   \n",
      "3         1743.051804            0.009453  0.002950        0.007812   \n",
      "\n",
      "   amplitude_min  spec_bandwidth_min  ...  amplitude_max  spec_bandwidth_max  \\\n",
      "0       0.067645         1565.565735  ...       0.944079         3733.309385   \n",
      "1       0.108328         1374.243640  ...       0.617887         3958.035621   \n",
      "2       0.294963         1389.244424  ...       1.006828         3043.412216   \n",
      "3       0.008831          934.995330  ...       0.686734         3884.208038   \n",
      "\n",
      "   spec_centroid_max  spec_flatness_max  root_std  cross_rate_std  \\\n",
      "0        6877.054616           0.292099  0.079472        0.093280   \n",
      "1        5659.074057           0.259870  0.080867        0.066702   \n",
      "2        4227.016852           0.155832  0.044908        0.028423   \n",
      "3        6076.368741           0.345359  0.037398        0.052074   \n",
      "\n",
      "   amplitude_std  spec_bandwidth_std  spec_centroid_std  spec_flatness_std  \n",
      "0       0.211924          354.646583         984.569819           0.058122  \n",
      "1       0.151943          404.071002         871.084155           0.034294  \n",
      "2       0.158019          342.130795         378.760468           0.021098  \n",
      "3       0.102697          580.872290        1031.238742           0.030485  \n",
      "\n",
      "[4 rows x 24 columns]\n"
     ]
    }
   ],
   "source": [
    "print(X.head(4))"
   ]
  },
  {
   "cell_type": "code",
   "execution_count": 6,
   "metadata": {},
   "outputs": [
    {
     "name": "stdout",
     "output_type": "stream",
     "text": [
      "0    Hip-Hop\n",
      "1    Hip-Hop\n",
      "2        Pop\n",
      "3       Folk\n",
      "Name: genre_top, dtype: object\n"
     ]
    }
   ],
   "source": [
    "print(y.head(4))"
   ]
  },
  {
   "cell_type": "markdown",
   "metadata": {},
   "source": [
    "## Get train and test data"
   ]
  },
  {
   "cell_type": "code",
   "execution_count": 7,
   "metadata": {},
   "outputs": [],
   "source": [
    "X_train, X_test, y_train, y_test = train_test_split(X, y, test_size=0.33, random_state=42)"
   ]
  },
  {
   "cell_type": "code",
   "execution_count": 8,
   "metadata": {},
   "outputs": [],
   "source": [
    "clf_tr = RandomForestClassifier()\n",
    "\n",
    "params = {\n",
    "    \"n_estimators\": range(60, 151, 5),\n",
    "    \"max_depth\": range(3, 30, 5),\n",
    "    \"min_samples_leaf\": range(1, 5),\n",
    "    \"min_samples_split\": range(2, 10),\n",
    "         }\n",
    "\n",
    "grid_search_cv_clf = GridSearchCV(clf_tr, params, cv=3)\n"
   ]
  },
  {
   "cell_type": "markdown",
   "metadata": {},
   "source": [
    "## Train model"
   ]
  },
  {
   "cell_type": "code",
   "execution_count": 9,
   "metadata": {},
   "outputs": [
    {
     "data": {
      "text/plain": [
       "GridSearchCV(cv=3, estimator=RandomForestClassifier(),\n",
       "             param_grid={'max_depth': range(3, 30, 5),\n",
       "                         'min_samples_leaf': range(1, 5),\n",
       "                         'min_samples_split': range(2, 10),\n",
       "                         'n_estimators': range(60, 151, 5)})"
      ]
     },
     "execution_count": 9,
     "metadata": {},
     "output_type": "execute_result"
    }
   ],
   "source": [
    "# grid_search_cv_clf.fit(X_train, y_train)\n"
   ]
  },
  {
   "cell_type": "markdown",
   "metadata": {},
   "source": [
    "## What are the best params"
   ]
  },
  {
   "cell_type": "code",
   "execution_count": 10,
   "metadata": {},
   "outputs": [
    {
     "name": "stdout",
     "output_type": "stream",
     "text": [
      "{'max_depth': 18, 'min_samples_leaf': 2, 'min_samples_split': 4, 'n_estimators': 100}\n"
     ]
    }
   ],
   "source": [
    "best_estimator = grid_search_cv_clf.best_params_\n",
    "print(best_estimator)"
   ]
  },
  {
   "cell_type": "code",
   "execution_count": 110,
   "metadata": {},
   "outputs": [],
   "source": [
    "## After analysis\n",
    "params = {'max_depth': 18, 'min_samples_leaf': 2, 'min_samples_split': 4, 'n_estimators': 100}\n",
    "grid_search_cv_clf = GridSearchCV(clf_tr, params, cv=3)\n",
    "grid_search_cv_clf.fit(X_train, y_train)"
   ]
  },
  {
   "cell_type": "markdown",
   "metadata": {},
   "source": [
    "# Let's see, how bad is it :)"
   ]
  },
  {
   "cell_type": "code",
   "execution_count": 111,
   "metadata": {},
   "outputs": [
    {
     "name": "stdout",
     "output_type": "stream",
     "text": [
      "0.9940242763772176 0.458128078817734\n",
      "\n",
      "               precision    recall  f1-score   support\n",
      "\n",
      "   Electronic       0.44      0.47      0.45       327\n",
      " Experimental       0.42      0.28      0.34       317\n",
      "         Folk       0.50      0.61      0.55       319\n",
      "      Hip-Hop       0.52      0.57      0.55       359\n",
      " Instrumental       0.48      0.57      0.52       319\n",
      "International       0.44      0.41      0.42       353\n",
      "          Pop       0.30      0.24      0.26       319\n",
      "         Rock       0.48      0.52      0.50       326\n",
      "\n",
      "     accuracy                           0.46      2639\n",
      "    macro avg       0.45      0.46      0.45      2639\n",
      " weighted avg       0.45      0.46      0.45      2639\n",
      "\n"
     ]
    }
   ],
   "source": [
    "# Mean and std fitures \n",
    "y_pred = grid_search_cv_clf.predict(X_test)\n",
    "train_score = grid_search_cv_clf.score(X_train, y_train)\n",
    "test_score = grid_search_cv_clf.score(X_test, y_test)\n",
    "clf_report = classification_report(y_true=y_test, y_pred=y_pred)\n",
    "\n",
    "print(train_score, test_score)\n",
    "print()\n",
    "print(clf_report)"
   ]
  },
  {
   "cell_type": "code",
   "execution_count": null,
   "metadata": {},
   "outputs": [],
   "source": []
  },
  {
   "cell_type": "markdown",
   "metadata": {},
   "source": [
    "# Let's try to predict BI_data"
   ]
  },
  {
   "cell_type": "code",
   "execution_count": 109,
   "metadata": {},
   "outputs": [
    {
     "data": {
      "text/plain": [
       "Electronica         39\n",
       "Rock                34\n",
       "Metal               32\n",
       "rock                20\n",
       "electro             18\n",
       "                    ..\n",
       "Funk_Rock            1\n",
       "Heavy_metal          1\n",
       "indi_pop             1\n",
       "Pop rock             1\n",
       "Alternative_Rock     1\n",
       "Name: genre, Length: 62, dtype: int64"
      ]
     },
     "execution_count": 109,
     "metadata": {},
     "output_type": "execute_result"
    }
   ],
   "source": [
    "all_data = pd.read_csv(\"./IB_data_with_features.csv\").drop(columns=[\"Unnamed: 0\"])\n",
    "all_data.genre.value_counts()"
   ]
  },
  {
   "cell_type": "code",
   "execution_count": 84,
   "metadata": {},
   "outputs": [],
   "source": [
    "def fix_genre(name):\n",
    "    if \"roc\" in name.lower():\n",
    "        return \"Rock\"\n",
    "    elif \"class\" in name.lower():\n",
    "        return \"Classic\"\n",
    "    elif \"elect\" in name.lower():\n",
    "        return \"Electronic\"\n",
    "    elif \"hip\" in name.lower():\n",
    "        return \"Hip-Hop\"\n",
    "    elif \"folk\" in name.lower():\n",
    "        return \"Folk\"\n",
    "    else:\n",
    "        return name.title()"
   ]
  },
  {
   "cell_type": "code",
   "execution_count": 85,
   "metadata": {},
   "outputs": [],
   "source": [
    "all_data.genre = all_data.genre.apply(fix_genre)"
   ]
  },
  {
   "cell_type": "code",
   "execution_count": 86,
   "metadata": {},
   "outputs": [],
   "source": [
    "X_data = all_data.drop(columns=[\"name\", \"genre\"])\n",
    "y_data = all_data.genre"
   ]
  },
  {
   "cell_type": "markdown",
   "metadata": {},
   "source": [
    "## Try to predict genre from BI_data"
   ]
  },
  {
   "cell_type": "code",
   "execution_count": 87,
   "metadata": {},
   "outputs": [],
   "source": [
    "y_BI_pred = grid_search_cv_clf.predict(X_data)\n"
   ]
  },
  {
   "cell_type": "markdown",
   "metadata": {},
   "source": [
    "## Make it more readable"
   ]
  },
  {
   "cell_type": "code",
   "execution_count": 88,
   "metadata": {},
   "outputs": [
    {
     "name": "stdout",
     "output_type": "stream",
     "text": [
      "                    music actual_genre predicted_genre\n",
      "0    7Horse_-_Answer_the_         Rock   International\n",
      "1    A_Simple_Life-Brian_      Classic    Instrumental\n",
      "2    Adagio_in_G_Minor-Al      Classic    Instrumental\n",
      "3    Age_Atomic-Solar_Bea   Electronic    Instrumental\n",
      "4    Agnus_Dei-Enigma.mp3      New_Age    Experimental\n",
      "..                    ...          ...             ...\n",
      "320  Электрослабость-Тере         Rock   International\n",
      "321  Я_говорю_тебе_да-Зоя     Art_Song    Instrumental\n",
      "322  Я_не_один-Эм_Калинин        Indie    Experimental\n",
      "323  Я_так_соскучился-Пор         Rock            Rock\n",
      "324  Я_убью_себя-Слава_КП      Hip-Hop            Rock\n",
      "\n",
      "[325 rows x 3 columns]\n"
     ]
    }
   ],
   "source": [
    "result_data = pd.DataFrame({\n",
    "    \"music\": all_data.name.str[:20],\n",
    "    \"actual_genre\": y_data,\n",
    "    \"predicted_genre\": y_BI_pred\n",
    "})\n",
    "\n",
    "result_data.to_csv(\"Result_of_forest_classification.csv\", encoding=\"UTF-8\")\n",
    "print(result_data)"
   ]
  },
  {
   "cell_type": "code",
   "execution_count": 89,
   "metadata": {},
   "outputs": [
    {
     "data": {
      "text/plain": [
       "array(['Rock', 'Classic', 'Electronic', 'New_Age', 'Rap', 'Hip-Hop',\n",
       "       'Jazz', 'Symphonic_Metal', 'Britpop', 'Metal', 'Country', 'Disco',\n",
       "       'Pop', 'Folk', 'Alternative', 'Heavy_Metal', 'Indie', 'Indi_Pop',\n",
       "       'Instrumental', 'Synth-Punk', 'J-Pop', 'Indie_Pop',\n",
       "       'Alternative Metal', 'Blues', 'Alternative_Metal', 'Orchestral',\n",
       "       'Ethnic', 'Trap', 'Art_Song', 'Audiobook', 'Dance', 'Romance'],\n",
       "      dtype=object)"
      ]
     },
     "execution_count": 89,
     "metadata": {},
     "output_type": "execute_result"
    }
   ],
   "source": [
    "result_data.actual_genre.unique()\n"
   ]
  },
  {
   "cell_type": "code",
   "execution_count": 90,
   "metadata": {},
   "outputs": [],
   "source": [
    "result_data.actual_genre = result_data.actual_genre.apply(fix_genre)\n"
   ]
  },
  {
   "cell_type": "code",
   "execution_count": 91,
   "metadata": {},
   "outputs": [
    {
     "data": {
      "text/plain": [
       "Rock             83\n",
       "International    80\n",
       "Instrumental     59\n",
       "Experimental     46\n",
       "Electronic       29\n",
       "Pop              16\n",
       "Folk              9\n",
       "Hip-Hop           3\n",
       "Name: predicted_genre, dtype: int64"
      ]
     },
     "execution_count": 91,
     "metadata": {},
     "output_type": "execute_result"
    }
   ],
   "source": [
    "result_data.predicted_genre.value_counts()"
   ]
  },
  {
   "cell_type": "code",
   "execution_count": 92,
   "metadata": {},
   "outputs": [
    {
     "data": {
      "text/plain": [
       "Rock                 80\n",
       "Electronic           69\n",
       "Metal                32\n",
       "Hip-Hop              24\n",
       "Symphonic_Metal      18\n",
       "Pop                  18\n",
       "Folk                 15\n",
       "Indie                13\n",
       "Classic               8\n",
       "New_Age               8\n",
       "Jazz                  5\n",
       "Instrumental          5\n",
       "Orchestral            4\n",
       "Country               3\n",
       "Art_Song              3\n",
       "Britpop               2\n",
       "Indie_Pop             2\n",
       "Ethnic                2\n",
       "Indi_Pop              1\n",
       "Synth-Punk            1\n",
       "J-Pop                 1\n",
       "Alternative           1\n",
       "Audiobook             1\n",
       "Blues                 1\n",
       "Romance               1\n",
       "Trap                  1\n",
       "Disco                 1\n",
       "Alternative Metal     1\n",
       "Dance                 1\n",
       "Heavy_Metal           1\n",
       "Alternative_Metal     1\n",
       "Rap                   1\n",
       "Name: actual_genre, dtype: int64"
      ]
     },
     "execution_count": 92,
     "metadata": {},
     "output_type": "execute_result"
    }
   ],
   "source": [
    "result_data.actual_genre.value_counts()"
   ]
  },
  {
   "cell_type": "code",
   "execution_count": 94,
   "metadata": {},
   "outputs": [
    {
     "name": "stdout",
     "output_type": "stream",
     "text": [
      "1.0\n",
      "0.13538461538461538\n",
      "\n",
      "                   precision    recall  f1-score   support\n",
      "\n",
      "      Alternative       0.00      0.00      0.00         1\n",
      "Alternative Metal       0.00      0.00      0.00         1\n",
      "Alternative_Metal       0.00      0.00      0.00         1\n",
      "         Art_Song       0.00      0.00      0.00         3\n",
      "        Audiobook       0.00      0.00      0.00         1\n",
      "            Blues       0.00      0.00      0.00         1\n",
      "          Britpop       0.00      0.00      0.00         2\n",
      "          Classic       0.00      0.00      0.00         8\n",
      "          Country       0.00      0.00      0.00         3\n",
      "            Dance       0.00      0.00      0.00         1\n",
      "            Disco       0.00      0.00      0.00         1\n",
      "       Electronic       0.62      0.26      0.37        69\n",
      "           Ethnic       0.00      0.00      0.00         2\n",
      "     Experimental       0.00      0.00      0.00         0\n",
      "             Folk       0.00      0.00      0.00        15\n",
      "      Heavy_Metal       0.00      0.00      0.00         1\n",
      "          Hip-Hop       0.33      0.04      0.07        24\n",
      "         Indi_Pop       0.00      0.00      0.00         1\n",
      "            Indie       0.00      0.00      0.00        13\n",
      "        Indie_Pop       0.00      0.00      0.00         2\n",
      "     Instrumental       0.05      0.60      0.09         5\n",
      "    International       0.00      0.00      0.00         0\n",
      "            J-Pop       0.00      0.00      0.00         1\n",
      "             Jazz       0.00      0.00      0.00         5\n",
      "            Metal       0.00      0.00      0.00        32\n",
      "          New_Age       0.00      0.00      0.00         8\n",
      "       Orchestral       0.00      0.00      0.00         4\n",
      "              Pop       0.06      0.06      0.06        18\n",
      "              Rap       0.00      0.00      0.00         1\n",
      "             Rock       0.25      0.26      0.26        80\n",
      "          Romance       0.00      0.00      0.00         1\n",
      "  Symphonic_Metal       0.00      0.00      0.00        18\n",
      "       Synth-Punk       0.00      0.00      0.00         1\n",
      "             Trap       0.00      0.00      0.00         1\n",
      "\n",
      "         accuracy                           0.14       325\n",
      "        macro avg       0.04      0.04      0.03       325\n",
      "     weighted avg       0.22      0.14      0.15       325\n",
      "\n"
     ]
    },
    {
     "name": "stderr",
     "output_type": "stream",
     "text": [
      "/home/anton/anaconda3/lib/python3.8/site-packages/sklearn/metrics/_classification.py:1221: UndefinedMetricWarning: Precision and F-score are ill-defined and being set to 0.0 in labels with no predicted samples. Use `zero_division` parameter to control this behavior.\n",
      "  _warn_prf(average, modifier, msg_start, len(result))\n",
      "/home/anton/anaconda3/lib/python3.8/site-packages/sklearn/metrics/_classification.py:1221: UndefinedMetricWarning: Recall and F-score are ill-defined and being set to 0.0 in labels with no true samples. Use `zero_division` parameter to control this behavior.\n",
      "  _warn_prf(average, modifier, msg_start, len(result))\n"
     ]
    }
   ],
   "source": [
    "print(grid_search_cv_clf.score(X_data, y_BI_pred))\n",
    "print(grid_search_cv_clf.score(X_data, y_data))\n",
    "print()\n",
    "print(classification_report(y_true=result_data.actual_genre, \n",
    "                            y_pred=result_data.predicted_genre))"
   ]
  },
  {
   "cell_type": "code",
   "execution_count": null,
   "metadata": {},
   "outputs": [],
   "source": []
  },
  {
   "cell_type": "markdown",
   "metadata": {},
   "source": [
    "## Let's try to predict not the whole BI_data"
   ]
  },
  {
   "cell_type": "code",
   "execution_count": 95,
   "metadata": {},
   "outputs": [],
   "source": [
    "needed_genre = [\"Rock\", \"International\", \"Instrumental\", \"Experimental\", \"Electronic\", \"Pop\", \"Folk\", \"Hip-Hop\"]"
   ]
  },
  {
   "cell_type": "code",
   "execution_count": 96,
   "metadata": {},
   "outputs": [
    {
     "name": "stdout",
     "output_type": "stream",
     "text": [
      "(211, 26)\n"
     ]
    }
   ],
   "source": [
    "short_data = all_data.query(\"genre in @needed_genre\")\n",
    "print(short_data.shape)\n"
   ]
  },
  {
   "cell_type": "code",
   "execution_count": 97,
   "metadata": {},
   "outputs": [],
   "source": [
    "X_short_data = short_data.drop(columns=[\"name\", \"genre\"])\n",
    "y_short_data = short_data.genre"
   ]
  },
  {
   "cell_type": "markdown",
   "metadata": {},
   "source": [
    "## Try to predict short data"
   ]
  },
  {
   "cell_type": "code",
   "execution_count": 98,
   "metadata": {},
   "outputs": [],
   "source": [
    "y_BI_short_pred = grid_search_cv_clf.predict(X_short_data)\n"
   ]
  },
  {
   "cell_type": "code",
   "execution_count": 99,
   "metadata": {},
   "outputs": [
    {
     "name": "stdout",
     "output_type": "stream",
     "text": [
      "1.0\n",
      "0.20853080568720378\n",
      "\n",
      "               precision    recall  f1-score   support\n",
      "\n",
      "   Electronic       0.69      0.26      0.38        69\n",
      " Experimental       0.00      0.00      0.00         0\n",
      "         Folk       0.00      0.00      0.00        15\n",
      "      Hip-Hop       0.50      0.04      0.08        24\n",
      " Instrumental       0.08      0.60      0.14         5\n",
      "International       0.00      0.00      0.00         0\n",
      "          Pop       0.08      0.06      0.06        18\n",
      "         Rock       0.53      0.26      0.35        80\n",
      "\n",
      "     accuracy                           0.21       211\n",
      "    macro avg       0.23      0.15      0.13       211\n",
      " weighted avg       0.49      0.21      0.27       211\n",
      "\n"
     ]
    },
    {
     "name": "stderr",
     "output_type": "stream",
     "text": [
      "/home/anton/anaconda3/lib/python3.8/site-packages/sklearn/metrics/_classification.py:1221: UndefinedMetricWarning: Recall and F-score are ill-defined and being set to 0.0 in labels with no true samples. Use `zero_division` parameter to control this behavior.\n",
      "  _warn_prf(average, modifier, msg_start, len(result))\n"
     ]
    }
   ],
   "source": [
    "print(grid_search_cv_clf.score(X_short_data, y_BI_short_pred))\n",
    "print(grid_search_cv_clf.score(X_short_data, y_short_data))\n",
    "print()\n",
    "print(classification_report(y_true=y_short_data, \n",
    "                            y_pred=y_BI_short_pred))"
   ]
  },
  {
   "cell_type": "code",
   "execution_count": 100,
   "metadata": {},
   "outputs": [
    {
     "name": "stdout",
     "output_type": "stream",
     "text": [
      "                    music actual_genre predicted_genre\n",
      "0    7Horse_-_Answer_the_         Rock   International\n",
      "1    A_Simple_Life-Brian_      Classic    Instrumental\n",
      "2    Adagio_in_G_Minor-Al      Classic    Instrumental\n",
      "3    Age_Atomic-Solar_Bea   Electronic    Instrumental\n",
      "4    Agnus_Dei-Enigma.mp3      New_Age    Experimental\n",
      "..                    ...          ...             ...\n",
      "320  Электрослабость-Тере         Rock   International\n",
      "321  Я_говорю_тебе_да-Зоя     Art_Song    Instrumental\n",
      "322  Я_не_один-Эм_Калинин        Indie    Experimental\n",
      "323  Я_так_соскучился-Пор         Rock            Rock\n",
      "324  Я_убью_себя-Слава_КП      Hip-Hop            Rock\n",
      "\n",
      "[325 rows x 3 columns]\n"
     ]
    }
   ],
   "source": [
    "result_short_data = pd.DataFrame({\n",
    "    \"music\": short_data.name.str[:20],\n",
    "    \"actual_genre\": y_short_data,\n",
    "    \"predicted_genre\": y_BI_short_pred\n",
    "})\n",
    "\n",
    "# result_data.to_csv(\"Result_of_forest_classification.csv\", encoding=\"UTF-8\")\n",
    "print(result_data)"
   ]
  },
  {
   "cell_type": "code",
   "execution_count": null,
   "metadata": {},
   "outputs": [],
   "source": []
  }
 ],
 "metadata": {
  "kernelspec": {
   "display_name": "Python 3",
   "language": "python",
   "name": "python3"
  },
  "language_info": {
   "codemirror_mode": {
    "name": "ipython",
    "version": 3
   },
   "file_extension": ".py",
   "mimetype": "text/x-python",
   "name": "python",
   "nbconvert_exporter": "python",
   "pygments_lexer": "ipython3",
   "version": "3.8.6"
  }
 },
 "nbformat": 4,
 "nbformat_minor": 4
}
