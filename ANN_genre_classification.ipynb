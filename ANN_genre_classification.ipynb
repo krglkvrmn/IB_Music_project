{
  "nbformat": 4,
  "nbformat_minor": 0,
  "metadata": {
    "accelerator": "GPU",
    "colab": {
      "name": "ANN_genre_classification.ipynb",
      "provenance": [],
      "collapsed_sections": [],
      "include_colab_link": true
    },
    "kernelspec": {
      "display_name": "Python 3",
      "name": "python3"
    }
  },
  "cells": [
    {
      "cell_type": "markdown",
      "metadata": {
        "id": "view-in-github",
        "colab_type": "text"
      },
      "source": [
        "<a href=\"https://colab.research.google.com/github/krglkvrmn/IB_Music_project/blob/master/ANN_genre_classification.ipynb\" target=\"_parent\"><img src=\"https://colab.research.google.com/assets/colab-badge.svg\" alt=\"Open In Colab\"/></a>"
      ]
    },
    {
      "cell_type": "markdown",
      "metadata": {
        "id": "iAbOhEjo0Su_"
      },
      "source": [
        "# Music classification with ANN"
      ]
    },
    {
      "cell_type": "code",
      "metadata": {
        "id": "0GX1m8UHt2pY",
        "colab": {
          "base_uri": "https://localhost:8080/"
        },
        "outputId": "1882edbb-59c3-48c1-943a-fd3cb7251be7"
      },
      "source": [
        "import os\n",
        "import random\n",
        "import sys\n",
        "import time\n",
        "from google.colab import drive\n",
        "import matplotlib.pyplot as plt\n",
        "import numpy as np\n",
        "import pandas as pd\n",
        "import torch\n",
        "from sklearn.model_selection import train_test_split\n",
        "from sklearn.preprocessing import LabelEncoder\n",
        "\n",
        "\n",
        "# Setup\n",
        "random.seed(0)\n",
        "np.random.seed(0)\n",
        "torch.manual_seed(0)\n",
        "torch.cuda.manual_seed(0)\n",
        "torch.backends.cudnn.deterministic = True\n",
        "%matplotlib inline\n",
        "plt.style.use('fivethirtyeight')\n",
        "\n",
        "def multilabel_accuracy(preds: torch.Tensor, y_test: torch.Tensor) -> float:\n",
        "    preds = preds.cpu().numpy()\n",
        "    y_test = y_test.cpu().numpy()\n",
        "    score = 0\n",
        "    masked = preds * y_test\n",
        "    for row_p, row_t, row_m in zip(preds, y_test, masked):\n",
        "        top = set(sorted(row_p, reverse=True)[:int(row_t.sum().item())])\n",
        "        row_preds = set(row_m[row_m != 0])\n",
        "        score += len(row_preds & top)\n",
        "    return round(score / sum(y_test.ravel()), 4)\n",
        "\n",
        "!nvidia-smi"
      ],
      "execution_count": 1,
      "outputs": [
        {
          "output_type": "stream",
          "text": [
            "Fri Apr 23 21:16:00 2021       \n",
            "+-----------------------------------------------------------------------------+\n",
            "| NVIDIA-SMI 465.19.01    Driver Version: 460.32.03    CUDA Version: 11.2     |\n",
            "|-------------------------------+----------------------+----------------------+\n",
            "| GPU  Name        Persistence-M| Bus-Id        Disp.A | Volatile Uncorr. ECC |\n",
            "| Fan  Temp  Perf  Pwr:Usage/Cap|         Memory-Usage | GPU-Util  Compute M. |\n",
            "|                               |                      |               MIG M. |\n",
            "|===============================+======================+======================|\n",
            "|   0  Tesla T4            Off  | 00000000:00:04.0 Off |                    0 |\n",
            "| N/A   41C    P8    11W /  70W |      0MiB / 15109MiB |      0%      Default |\n",
            "|                               |                      |                  N/A |\n",
            "+-------------------------------+----------------------+----------------------+\n",
            "                                                                               \n",
            "+-----------------------------------------------------------------------------+\n",
            "| Processes:                                                                  |\n",
            "|  GPU   GI   CI        PID   Type   Process name                  GPU Memory |\n",
            "|        ID   ID                                                   Usage      |\n",
            "|=============================================================================|\n",
            "|  No running processes found                                                 |\n",
            "+-----------------------------------------------------------------------------+\n"
          ],
          "name": "stdout"
        }
      ]
    },
    {
      "cell_type": "markdown",
      "metadata": {
        "id": "YRP6zvwNbMHg"
      },
      "source": [
        "## Data loading"
      ]
    },
    {
      "cell_type": "code",
      "metadata": {
        "colab": {
          "base_uri": "https://localhost:8080/"
        },
        "id": "rrqhYaa-ua4y",
        "outputId": "f4c46f9b-d06e-4919-ddbc-89802b97480d"
      },
      "source": [
        "drive.mount(\"/content/drive/\")"
      ],
      "execution_count": null,
      "outputs": [
        {
          "output_type": "stream",
          "text": [
            "Drive already mounted at /content/drive/; to attempt to forcibly remount, call drive.mount(\"/content/drive/\", force_remount=True).\n"
          ],
          "name": "stdout"
        }
      ]
    },
    {
      "cell_type": "code",
      "metadata": {
        "colab": {
          "base_uri": "https://localhost:8080/"
        },
        "id": "hDdMSHMa0ZZr",
        "outputId": "44f7313f-9342-4be1-91e4-e7865c5d0de3"
      },
      "source": [
        "datadir =  \"/content/drive/MyDrive/music_classification/data/\"\n",
        "fma_datadir = \"/content/drive/MyDrive/music_classification/data/fma\"\n",
        "mel_spec_datadir = \"/content/drive/MyDrive/music_classification/data/fma/spectrograms/mel\"\n",
        "ib_dataset_dir = \"/content/drive/MyDrive/music_classification/data/fma/data/\"\n",
        "sys.path.append(os.path.join(datadir, \"fma\", \"models\"))\n",
        "os.listdir(os.path.join(mel_spec_datadir))"
      ],
      "execution_count": null,
      "outputs": [
        {
          "output_type": "execute_result",
          "data": {
            "text/plain": [
              "['mel_spec_4096_2048_20.npy', 'mel_spec_2048_512_90.npy']"
            ]
          },
          "metadata": {
            "tags": []
          },
          "execution_count": 3
        }
      ]
    },
    {
      "cell_type": "markdown",
      "metadata": {
        "id": "LDcgl2FvbRNT"
      },
      "source": [
        "### Load genres from pre-processed FMA metadate file"
      ]
    },
    {
      "cell_type": "code",
      "metadata": {
        "id": "IOIlv3RR0chK"
      },
      "source": [
        "data = pd.read_csv(os.path.join(fma_datadir, \"tracks_genre_small.csv\"))\n",
        "blacklist = set([\"fma_small/098/098565.mp3\",\n",
        "                 \"fma_small/098/098567.mp3\",\n",
        "                 \"fma_small/098/098569.mp3\",\n",
        "                 \"fma_small/099/099134.mp3\",\n",
        "                 \"fma_small/108/108925.mp3\",\n",
        "                 \"fma_small/133/133297.mp3\"])\n",
        "data = data.query(\"filepath not in @blacklist\")\n",
        "encoder = LabelEncoder()"
      ],
      "execution_count": null,
      "outputs": []
    },
    {
      "cell_type": "markdown",
      "metadata": {
        "id": "S-y7nKwKbeL4"
      },
      "source": [
        "### Load MFCC and Log-mel-spectrograms of small FMA dataset"
      ]
    },
    {
      "cell_type": "code",
      "metadata": {
        "id": "TIaSpkEk0wwy"
      },
      "source": [
        "X_mfcc = np.load(os.path.join(fma_datadir, \"mfcc\", \"mfcc_13.npy\"))\n",
        "X_spec = np.load(os.path.join(mel_spec_datadir, \"mel_spec_2048_512_90.npy\"))"
      ],
      "execution_count": null,
      "outputs": []
    },
    {
      "cell_type": "code",
      "metadata": {
        "id": "-7v8uah59i7h"
      },
      "source": [
        "# Reshape MFCC array so we can concatenate it with spectrograms\n",
        "X = np.concatenate((X_mfcc.reshape((X_mfcc.shape[0], X_mfcc.shape[2], X_mfcc.shape[1])), X_spec), axis=1)  "
      ],
      "execution_count": null,
      "outputs": []
    },
    {
      "cell_type": "code",
      "metadata": {
        "id": "lYWN5ipg5Z4m"
      },
      "source": [
        "# y = encoder.fit_transform(data.genre_top)                   # Test values for 8 class single-label classification\n",
        "y = np.load(os.path.join(fma_datadir, \"genre_dummies.npy\"))   # Test values for 114 class multi-label classification"
      ],
      "execution_count": null,
      "outputs": []
    },
    {
      "cell_type": "code",
      "metadata": {
        "id": "XgQwmcVt60fh"
      },
      "source": [
        "# Delete variables to avoid RAM overflow\n",
        "del X_mfcc, X_spec"
      ],
      "execution_count": null,
      "outputs": []
    },
    {
      "cell_type": "code",
      "metadata": {
        "id": "gGUAKgGn01mg"
      },
      "source": [
        "X_train, X_test, y_train, y_test = train_test_split(X, y, test_size=0.2, random_state=42)"
      ],
      "execution_count": null,
      "outputs": []
    },
    {
      "cell_type": "code",
      "metadata": {
        "id": "X4F2nQLYClJa"
      },
      "source": [
        "# Delete variables to avoid RAM overflow\n",
        "del X"
      ],
      "execution_count": null,
      "outputs": []
    },
    {
      "cell_type": "code",
      "metadata": {
        "id": "Hbq70zo607Df"
      },
      "source": [
        "X_train = torch.tensor(X_train).float()\n",
        "X_test = torch.tensor(X_test).float()\n",
        "y_train = torch.tensor(y_train)\n",
        "y_test = torch.tensor(y_test)"
      ],
      "execution_count": null,
      "outputs": []
    },
    {
      "cell_type": "code",
      "metadata": {
        "colab": {
          "base_uri": "https://localhost:8080/"
        },
        "id": "PcKfzTvdDRuS",
        "outputId": "ff727260-d3c1-43f5-c036-3aec617eaeb8"
      },
      "source": [
        "X_train.shape"
      ],
      "execution_count": null,
      "outputs": [
        {
          "output_type": "execute_result",
          "data": {
            "text/plain": [
              "torch.Size([6395, 129, 1271])"
            ]
          },
          "metadata": {
            "tags": []
          },
          "execution_count": 12
        }
      ]
    },
    {
      "cell_type": "code",
      "metadata": {
        "id": "d25aN-6H1rtt"
      },
      "source": [
        "device = torch.device(\"cuda:0\")"
      ],
      "execution_count": null,
      "outputs": []
    },
    {
      "cell_type": "markdown",
      "metadata": {
        "id": "lWdAxCdykP1w"
      },
      "source": [
        "## ANN architectures"
      ]
    },
    {
      "cell_type": "code",
      "metadata": {
        "id": "-Iqvz1CG1u3P"
      },
      "source": [
        "class HybrydMLNet(torch.nn.Module):\n",
        "    \"\"\"Predicts 114 genres. Takes (batch_size, 1, 129, 1271) as input\"\"\"\n",
        "    def __init__(self):\n",
        "        super(HybrydMLNet, self).__init__()\n",
        "        \n",
        "        self.conv1 = torch.nn.Conv2d(in_channels=1, out_channels=32, kernel_size=(7, 11), padding=(3, 5), stride=(3, 5))\n",
        "        self.act1 = torch.nn.ReLU()\n",
        "        self.bn1 = torch.nn.BatchNorm2d(num_features=32)\n",
        "        self.do1 = torch.nn.Dropout2d(0.05)\n",
        "        self.pool1 = torch.nn.MaxPool2d(kernel_size=(2, 3))\n",
        "        \n",
        "        self.conv1ad = torch.nn.Conv2d(in_channels=32, out_channels=128, kernel_size=(5, 7), padding=(2, 5), stride=(3, 3))\n",
        "        self.act1ad = torch.nn.ELU()\n",
        "        self.bn2 = torch.nn.BatchNorm2d(num_features=128)\n",
        "        self.do2 = torch.nn.Dropout2d(0.05)\n",
        "        self.pool1ad = torch.nn.AvgPool2d(kernel_size=(1, 3))\n",
        "        \n",
        "        self.conv2 = torch.nn.Conv2d(in_channels=128, out_channels=256, kernel_size=3, padding=1)\n",
        "        self.act2 = torch.nn.SELU()\n",
        "        self.bn3 = torch.nn.BatchNorm2d(num_features=256)\n",
        "        self.do3 = torch.nn.Dropout2d(0.05)\n",
        "        self.pool2 = torch.nn.MaxPool2d(kernel_size=(1, 2))\n",
        "        \n",
        "        self.conv2ad = torch.nn.Conv2d(in_channels=256, out_channels=512, kernel_size=(5, 3), padding=(2, 1))\n",
        "        self.act2ad = torch.nn.ReLU()\n",
        "        self.bn4 = torch.nn.BatchNorm2d(num_features=512)\n",
        "        self.do4 = torch.nn.Dropout2d(0.05)\n",
        "        self.pool2ad = torch.nn.AvgPool2d(kernel_size=5, stride=3, padding=2)\n",
        "        \n",
        "        self.fc1 = torch.nn.Linear(3072, 1024)\n",
        "        self.fc1_act = torch.nn.ELU()\n",
        "        \n",
        "        self.fc2 = torch.nn.Linear(1024, 512)\n",
        "        self.fc2_act = torch.nn.ReLU()\n",
        "        \n",
        "        self.fc3 = torch.nn.Linear(512, 256)\n",
        "        self.fc3_act = torch.nn.Tanh()\n",
        "\n",
        "        self.fc4 = torch.nn.Linear(256, 114)\n",
        "    \n",
        "    def forward(self, x):\n",
        "        x = x.unsqueeze(1)\n",
        "        x = self.conv1(x)\n",
        "        x = self.act1(x)\n",
        "        x = self.bn1(x)\n",
        "        x = self.do1(x)\n",
        "        x = self.pool1(x)\n",
        "        \n",
        "        x = self.conv1ad(x)\n",
        "        x = self.act1ad(x)\n",
        "        x = self.bn2(x)\n",
        "        x = self.do2(x)\n",
        "        x = self.pool1ad(x)\n",
        "        \n",
        "        \n",
        "        x = self.conv2(x)\n",
        "        x = self.act2(x)\n",
        "        x = self.bn3(x)\n",
        "        x = self.do3(x)\n",
        "        x = self.pool2(x)\n",
        "        \n",
        "        x = self.conv2ad(x)\n",
        "        x = self.act2ad(x)\n",
        "        x = self.bn4(x)\n",
        "        x = self.do4(x)\n",
        "        x = self.pool2ad(x)\n",
        "        \n",
        "        \n",
        "        \n",
        "        x = x.view(x.size(0), x.size(1)*x.size(2)*x.size(3))\n",
        "\n",
        "        x = self.fc1(x)\n",
        "        x = self.fc1_act(x)\n",
        "\n",
        "        x = self.fc2(x)\n",
        "        x = self.fc2_act(x)\n",
        "        \n",
        "        x = self.fc3(x)\n",
        "        x = self.fc3_act(x)\n",
        "\n",
        "        x = self.fc4(x)\n",
        "\n",
        "        return x\n",
        "\n",
        "\n",
        "class HybrydNet(torch.nn.Module):\n",
        "    \"\"\"Predicts 8 genres. Takes (batch_size, 1, 129, 1271) as input\"\"\"\n",
        "    def __init__(self):\n",
        "        super(HybrydNet, self).__init__()\n",
        "        \n",
        "        self.conv1 = torch.nn.Conv2d(in_channels=1, out_channels=32, kernel_size=(7, 11), padding=(3, 5), stride=(3, 5))\n",
        "        self.act1 = torch.nn.ReLU()\n",
        "        self.bn1 = torch.nn.BatchNorm2d(num_features=32)\n",
        "        self.do1 = torch.nn.Dropout2d(0.05)\n",
        "        self.pool1 = torch.nn.MaxPool2d(kernel_size=(2, 3))\n",
        "        \n",
        "        self.conv1ad = torch.nn.Conv2d(in_channels=32, out_channels=128, kernel_size=(5, 7), padding=(2, 5), stride=(3, 3))\n",
        "        self.act1ad = torch.nn.ELU()\n",
        "        self.bn2 = torch.nn.BatchNorm2d(num_features=128)\n",
        "        self.do2 = torch.nn.Dropout2d(0.05)\n",
        "        self.pool1ad = torch.nn.AvgPool2d(kernel_size=(1, 3))\n",
        "        \n",
        "        self.conv2 = torch.nn.Conv2d(in_channels=128, out_channels=256, kernel_size=3, padding=1)\n",
        "        self.act2 = torch.nn.SELU()\n",
        "        self.bn3 = torch.nn.BatchNorm2d(num_features=256)\n",
        "        self.do3 = torch.nn.Dropout2d(0.05)\n",
        "        self.pool2 = torch.nn.MaxPool2d(kernel_size=(1, 2))\n",
        "        \n",
        "        self.conv2ad = torch.nn.Conv2d(in_channels=256, out_channels=512, kernel_size=(5, 3), padding=(2, 1))\n",
        "        self.act2ad = torch.nn.ReLU()\n",
        "        self.bn4 = torch.nn.BatchNorm2d(num_features=512)\n",
        "        self.do4 = torch.nn.Dropout2d(0.05)\n",
        "        self.pool2ad = torch.nn.AvgPool2d(kernel_size=5, stride=3, padding=2)\n",
        "        \n",
        "        self.fc1 = torch.nn.Linear(3072, 1024)\n",
        "        self.fc1_act = torch.nn.ELU()\n",
        "        \n",
        "        self.fc2 = torch.nn.Linear(1024, 256)\n",
        "        self.fc2_act = torch.nn.ReLU()\n",
        "        \n",
        "        self.fc3 = torch.nn.Linear(256, 64)\n",
        "        self.fc3_act = torch.nn.Tanh()\n",
        "\n",
        "        self.fc4 = torch.nn.Linear(64, 8)\n",
        "    \n",
        "    def forward(self, x):\n",
        "        x = x.unsqueeze(1)\n",
        "\n",
        "        x = self.conv1(x)\n",
        "        x = self.act1(x)\n",
        "        x = self.bn1(x)\n",
        "        x = self.do1(x)\n",
        "        x = self.pool1(x)\n",
        "        \n",
        "        x = self.conv1ad(x)\n",
        "        x = self.act1ad(x)\n",
        "        x = self.bn2(x)\n",
        "        x = self.do2(x)\n",
        "        x = self.pool1ad(x)\n",
        "        \n",
        "        \n",
        "        x = self.conv2(x)\n",
        "        x = self.act2(x)\n",
        "        x = self.bn3(x)\n",
        "        x = self.do3(x)\n",
        "        x = self.pool2(x)\n",
        "        \n",
        "        x = self.conv2ad(x)\n",
        "        x = self.act2ad(x)\n",
        "        x = self.bn4(x)\n",
        "        x = self.do4(x)\n",
        "        x = self.pool2ad(x)\n",
        "        \n",
        "        \n",
        "        \n",
        "        x = x.view(x.size(0), x.size(1)*x.size(2)*x.size(3))\n",
        "\n",
        "        x = self.fc1(x)\n",
        "        x = self.fc1_act(x)\n",
        "\n",
        "        x = self.fc2(x)\n",
        "        x = self.fc2_act(x)\n",
        "        \n",
        "        x = self.fc3(x)\n",
        "        x = self.fc3_act(x)\n",
        "\n",
        "        x = self.fc4(x)\n",
        "\n",
        "        return x"
      ],
      "execution_count": null,
      "outputs": []
    },
    {
      "cell_type": "code",
      "metadata": {
        "id": "KqsOWpjO2D-f"
      },
      "source": [
        "net = HybrydMLNet()      # Create model HybrydNet or HybrydMLNet\n",
        "net.to(device)\n",
        "net.train()              \n",
        "\n",
        "lr = 4e-4\n",
        "epochs = 100\n",
        "\n",
        "# Choose loss function: CrossEntropyLoss for HybrydNet and BCEWithLogitsLoss for HybrydMLNet\n",
        "# loss = torch.nn.CrossEntropyLoss()                 \n",
        "loss = torch.nn.BCEWithLogitsLoss()\n",
        "\n",
        "# Select optimizer\n",
        "#optimizer = torch.optim.SGD(net.parameters(), lr=lr)\n",
        "#optimizer = torch.optim.Adam(net.parameters(), lr=lr)\n",
        "optimizer = torch.optim.RMSprop(net.parameters(), lr=lr)\n",
        "#optimizer = torch.optim.Rprop(lenet5.parameters(), lr=lr)"
      ],
      "execution_count": null,
      "outputs": []
    },
    {
      "cell_type": "code",
      "metadata": {
        "colab": {
          "base_uri": "https://localhost:8080/"
        },
        "id": "gcbWkagi2Gsd",
        "outputId": "9fdbdbed-5416-4a38-f0e1-0b298add7790"
      },
      "source": [
        "batch_size = 100\n",
        "\n",
        "test_accuracy_history = []\n",
        "test_loss_history = []\n",
        "\n",
        "X_test = X_test.to(device)\n",
        "y_test = y_test.to(device)\n",
        "\n",
        "for epoch in range(epochs):\n",
        "    order = np.random.permutation(len(X_train))\n",
        "    for start_index in range(0, len(X_train), batch_size):\n",
        "        optimizer.zero_grad()\n",
        "        \n",
        "        batch_indexes = order[start_index:start_index+batch_size]\n",
        "        \n",
        "        X_batch = X_train[batch_indexes].to(device)\n",
        "        y_batch = y_train[batch_indexes].to(device)\n",
        "        \n",
        "        preds = net.forward(X_batch)\n",
        "        \n",
        "        \n",
        "        loss_value = loss(preds, y_batch)\n",
        "        loss_value.backward()\n",
        "        \n",
        "        optimizer.step()\n",
        "    \n",
        "    with torch.no_grad():\n",
        "        test_preds = net.forward(X_test)\n",
        "        test_loss_history.append(loss(test_preds, y_test).data.cpu()) \n",
        "        # accuracy = (test_preds.argmax(dim=1) == y_test).float().mean().data.cpu()     # For HybrydNet\n",
        "        accuracy = multilabel_accuracy(test_preds, y_test)                              # For HybrydMLNet\n",
        "        test_accuracy_history.append(accuracy)\n",
        "        print(accuracy, epoch)"
      ],
      "execution_count": null,
      "outputs": [
        {
          "output_type": "stream",
          "text": [
            "0.1169 0\n",
            "0.217 1\n",
            "0.2433 2\n",
            "0.2577 3\n",
            "0.2831 4\n",
            "0.282 5\n",
            "0.2548 6\n",
            "0.2681 7\n",
            "0.2747 8\n",
            "0.3004 9\n",
            "0.3152 10\n",
            "0.3157 11\n",
            "0.3273 12\n",
            "0.3302 13\n",
            "0.3276 14\n",
            "0.331 15\n",
            "0.3221 16\n",
            "0.3498 17\n",
            "0.3449 18\n",
            "0.3449 19\n",
            "0.3518 20\n",
            "0.3605 21\n",
            "0.3619 22\n",
            "0.357 23\n",
            "0.3697 24\n",
            "0.3631 25\n",
            "0.3665 26\n",
            "0.3749 27\n",
            "0.3864 28\n",
            "0.3784 29\n",
            "0.3887 30\n",
            "0.3835 31\n",
            "0.3833 32\n",
            "0.3752 33\n",
            "0.4026 34\n",
            "0.3939 35\n",
            "0.4038 36\n",
            "0.3965 37\n",
            "0.4006 38\n",
            "0.3934 39\n",
            "0.3997 40\n",
            "0.4124 41\n",
            "0.4 42\n",
            "0.4098 43\n",
            "0.4115 44\n",
            "0.4271 45\n",
            "0.4193 46\n",
            "0.4225 47\n",
            "0.4121 48\n",
            "0.4188 49\n",
            "0.4196 50\n",
            "0.4367 51\n",
            "0.4274 52\n",
            "0.4343 53\n",
            "0.4289 54\n",
            "0.432 55\n",
            "0.4358 56\n",
            "0.4286 57\n"
          ],
          "name": "stdout"
        }
      ]
    },
    {
      "cell_type": "code",
      "metadata": {
        "id": "LdnRBH_O3Qsh"
      },
      "source": [
        "# Save model\n",
        "torch.save(net.state_dict(), os.path.join(datadir, \"fma\", \"models\", \"HybrydMlNet114_043.pt\"))"
      ],
      "execution_count": null,
      "outputs": []
    },
    {
      "cell_type": "code",
      "metadata": {
        "id": "qFAQ4H_tZiVg",
        "colab": {
          "base_uri": "https://localhost:8080/",
          "height": 624
        },
        "outputId": "201a266a-9bb2-4ec5-c8d7-8ec854fd32e4"
      },
      "source": [
        "plt.rc(\"figure\", figsize=(25, 10))\n",
        "\n",
        "fig, ax = plt.subplots(2, 1)\n",
        "ax[0].plot(test_accuracy_history)\n",
        "ax[0].hlines(0.43,  0, 57, color=\"r\", lw=1)\n",
        "ax[0].set_xlabel(\"Epoch #\")\n",
        "ax[0].set_ylabel(\"Accuracy\")\n",
        "\n",
        "ax[1].plot(test_loss_history, color=\"g\")\n",
        "ax[1].set_xlabel(\"Epoch #\")\n",
        "ax[1].set_ylabel(\"Loss\")"
      ],
      "execution_count": null,
      "outputs": [
        {
          "output_type": "execute_result",
          "data": {
            "text/plain": [
              "Text(0, 0.5, 'Loss')"
            ]
          },
          "metadata": {
            "tags": []
          },
          "execution_count": 23
        },
        {
          "output_type": "display_data",
          "data": {
            "image/png": "[encoded data removed]",
            "text/plain": [
              "<Figure size 1800x720 with 2 Axes>"
            ]
          },
          "metadata": {
            "tags": [],
            "needs_background": "light"
          }
        }
      ]
    },
    {
      "cell_type": "code",
      "metadata": {
        "id": "fE-fnMnHxKa8"
      },
      "source": [
        "from google.colab import files\n",
        "files.upload()"
      ],
      "execution_count": null,
      "outputs": []
    },
    {
      "cell_type": "code",
      "metadata": {
        "colab": {
          "base_uri": "https://localhost:8080/"
        },
        "id": "Onip6PMG7OhE",
        "outputId": "ad5985a6-a65e-4e5d-fb6d-90f587841ada"
      },
      "source": [
        "# Manual prediction test\n",
        "# 650475 is hardcoded parameter for number of samples composing 29.5 seconds with sr=20050 \n",
        "import librosa as lb\n",
        "\n",
        "net.eval()\n",
        "\n",
        "FRAME_SIZE = 2048\n",
        "HOP_LENGTH = 512\n",
        "\n",
        "ml_labels = ['Avant-Garde', 'International', 'Sound Art', 'Novelty', 'Turkish', 'Pop', 'New Age', 'Rock', 'Romany (Gypsy)', 'Electronic', 'Sound Effects', 'Folk', 'Soundtrack', 'Hip-Hop', 'Audio Collage', 'Punk', 'Post-Rock', 'Lo-Fi', 'Compilation', 'Rap', 'Field Recordings', 'Metal', 'Noise', 'Psych-Folk', 'Trip-Hop', 'Breakbeat', 'Krautrock', 'Tango', 'Experimental', 'Dance', 'Electroacoustic', 'Chip Music', 'Ambient Electronic', 'Hip-Hop Beats', 'Loud-Rock', 'Latin America', 'Drone', 'Salsa', 'Free-Folk', 'Noise-Rock', 'Psych-Rock', 'Goth', 'Electro-Punk', 'Indie-Rock', 'Abstract Hip-Hop', 'Industrial', 'No Wave', 'Experimental Pop', 'French', 'Reggae - Dub', 'Drum & Bass', 'Afrobeat', 'Nerdcore', 'Garage', 'Indian', 'New Wave', 'Post-Punk', 'Reggae - Dancehall', 'Sludge', 'African', 'Freak-Folk', 'Progressive', 'Alternative Hip-Hop', 'Death-Metal', 'Middle East', 'Singer-Songwriter', 'Shoegaze', 'Kid-Friendly', 'Synth Pop', 'Spanish', 'Ambient', 'Hardcore', 'Thrash', 'Power-Pop', 'Space-Rock', 'Polka', 'Balkan', 'Unclassifiable', 'Europe', 'Chill-out', 'Bigbeat', 'Surf', 'Black-Metal', 'Christmas', 'Brazilian', 'Asia-Far East', 'South Indian Traditional', 'Celtic', 'British Folk', 'Techno', 'House', 'Glitch', 'Rock Opera', 'Breakcore - Hard', 'Minimal Electronic', 'Sound Poetry', 'Grindcore', 'Jungle', 'Minimalism', 'Instrumental', 'Dubstep', 'North African', 'Sound Collage', 'Klezmer', 'Flamenco', 'Skweee', 'IDM', 'Downtempo', 'Chiptune', 'Cumbia', 'Musique Concrete', 'Latin', 'Improv', 'Holiday']\n",
        "\n",
        "filepath = os.path.join(ib_dataset_dir, \"RHODONITE_AND_GRIEF-La_Dispute.mp3\")\n",
        "signal, sr = lb.load(filepath)\n",
        "for i in range(signal.size // 650475):\n",
        "    mel_spec = lb.feature.melspectrogram(signal[650475*i:650475*(i+1)], sr=sr, n_fft=FRAME_SIZE, hop_length=HOP_LENGTH, n_mels=90)\n",
        "    log_mel_spec = lb.power_to_db(mel_spec)\n",
        "\n",
        "    mfcc = lb.feature.mfcc(signal[650475*i:650475*(i+1)], n_mfcc=13)\n",
        "    mfcc2 = lb.feature.delta(mfcc)\n",
        "    mfcc3 = lb.feature.delta(mfcc, order=2)\n",
        "    mfcc = np.concatenate((mfcc, mfcc2, mfcc3))\n",
        "\n",
        "    X = torch.tensor(np.concatenate((mfcc, log_mel_spec))).unsqueeze(0).to(device)\n",
        "    preds = list(zip(torch.nn.Softmax()(net.forward(X))[0].data, ml_labels))\n",
        "    preds.sort(reverse=True)\n",
        "    print(preds[0][1], \"-\", preds[1][1], \"-\", preds[2][1], f\"({preds[0][0]:.3f}:{preds[1][0]:.3f}:{preds[2][0]:.3f})\")"
      ],
      "execution_count": null,
      "outputs": [
        {
          "output_type": "stream",
          "text": [
            "/usr/local/lib/python3.7/dist-packages/librosa/core/audio.py:162: UserWarning: PySoundFile failed. Trying audioread instead.\n",
            "  warnings.warn(\"PySoundFile failed. Trying audioread instead.\")\n",
            "/usr/local/lib/python3.7/dist-packages/ipykernel_launcher.py:24: UserWarning: Implicit dimension choice for softmax has been deprecated. Change the call to include dim=X as an argument.\n"
          ],
          "name": "stderr"
        },
        {
          "output_type": "stream",
          "text": [
            "Rock - Pop - Instrumental (0.226:0.205:0.065)\n",
            "Rock - Pop - Indie-Rock (0.311:0.171:0.069)\n",
            "Rock - Pop - Instrumental (0.202:0.197:0.062)\n",
            "Experimental - Folk - Instrumental (0.198:0.110:0.109)\n",
            "Rock - Surf - Punk (0.461:0.074:0.073)\n",
            "Rock - Pop - Indie-Rock (0.330:0.151:0.068)\n",
            "Rock - Pop - Indie-Rock (0.270:0.201:0.067)\n"
          ],
          "name": "stdout"
        }
      ]
    }
  ]
}